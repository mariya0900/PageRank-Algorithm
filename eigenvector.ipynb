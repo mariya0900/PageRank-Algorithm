{
 "cells": [
  {
   "cell_type": "code",
   "execution_count": 4,
   "metadata": {},
   "outputs": [
    {
     "name": "stdout",
     "output_type": "stream",
     "text": [
      "Time taken: 0:00:00.010498\n",
      "PageRank of each page:\n",
      "[7.77471175e-17 2.02159660e-16 3.59386707e-16 4.44444444e-01\n",
      " 2.22222222e-01 3.33333333e-01]\n"
     ]
    }
   ],
   "source": [
    "# Define the hyperlink matrix P\n",
    "P = np.array([\n",
    "    [0, 0, 1/3, 0, 0, 0],\n",
    "    [1/2, 0, 1/3, 0, 0, 0],\n",
    "    [1/2, 1, 0, 0, 0, 0],\n",
    "    [0, 0, 0, 0, 1/2, 1],\n",
    "    [0, 0, 1/3, 1/2, 0, 0],\n",
    "    [0, 0, 0, 1/2, 1/2, 0]\n",
    "])\n",
    "\n",
    "principal_eigenvector = pageRankeigen(P)\n",
    "\n",
    "print(\"PageRank of each page:\")\n",
    "print(principal_eigenvector)"
   ]
  },
  {
   "cell_type": "code",
   "execution_count": 52,
   "metadata": {},
   "outputs": [
    {
     "name": "stdout",
     "output_type": "stream",
     "text": [
      "PageRank of each page:\n",
      "[7.77471175e-17 2.02159660e-16 3.59386707e-16 4.44444444e-01\n",
      " 2.22222222e-01 3.33333333e-01]\n"
     ]
    }
   ],
   "source": [
    "# Define the hyperlink matrix P\n",
    "P = np.array([\n",
    "    [0, 0, 1/3, 0, 0, 0],\n",
    "    [1/2, 0, 1/3, 0, 0, 0],\n",
    "    [1/2, 1, 0, 0, 0, 0],\n",
    "    [0, 0, 0, 0, 1/2, 1],\n",
    "    [0, 0, 1/3, 1/2, 0, 0],\n",
    "    [0, 0, 0, 1/2, 1/2, 0]\n",
    "])\n",
    "\n",
    "principal_eigenvector = pageRankeigen(P)\n",
    "\n",
    "print(\"PageRank of each page:\")\n",
    "print(principal_eigenvector)"
   ]
  },
  {
   "cell_type": "code",
   "execution_count": 53,
   "metadata": {},
   "outputs": [
    {
     "name": "stdout",
     "output_type": "stream",
     "text": [
      "Eigenvalues of P:\n",
      "[-0.66962311+0.j         -0.34343466+0.63693669j -0.34343466-0.63693669j\n",
      "  1.        +0.j          0.35649244+0.j        ]\n",
      "eigenvector: [[ 0.49233021+0.j          0.05470658-0.16060979j  0.05470658+0.16060979j\n",
      "  -0.33333333+0.j         -0.60845875+0.j        ]\n",
      " [-0.65935137+0.j          0.16702027+0.18000719j  0.16702027-0.18000719j\n",
      "  -0.66666667+0.j         -0.43382188+0.j        ]\n",
      " [-0.40119248+0.j         -0.67469537+0.j         -0.67469537-0.j\n",
      "  -0.44444444+0.j          0.37776838+0.j        ]\n",
      " [ 0.29956588+0.j          0.22125475+0.41034083j  0.22125475-0.41034083j\n",
      "  -0.22222222+0.j          0.52984067+0.j        ]\n",
      " [ 0.26864775+0.j          0.23171378-0.42973824j  0.23171378+0.42973824j\n",
      "  -0.44444444+0.j          0.13467157+0.j        ]]\n",
      "Is the matrix fully connected (irreducible)? False\n"
     ]
    }
   ],
   "source": [
    "P = np.array(((0, 0.5, 0, 0, 0), (1, 0, 0.5, 0.5, 0), (0, 0, 0, 0, 1), (0, 0, 0.5, 0, 0),\n",
    "              (0, 0.5, 0, 0.5, 0)))\n",
    "\n",
    "# Compute the eigenvalues of P\n",
    "eigenvalues, ev = np.linalg.eig(P)\n",
    "print(\"Eigenvalues of P:\")\n",
    "print(eigenvalues)\n",
    "\n",
    "print(\"eigenvector:\", ev)\n",
    "\n",
    "# Check if the matrix is fully connected by checking the power of P\n",
    "n = P.shape[0]\n",
    "P_power = np.linalg.matrix_power(P, n-1)  # Check the power of n-1\n",
    "\n",
    "# Check if all entries in P_power are greater than 0\n",
    "is_fully_connected = np.all(P_power > 0)\n",
    "print(\"Is the matrix fully connected (irreducible)?\", is_fully_connected)"
   ]
  },
  {
   "cell_type": "code",
   "execution_count": 54,
   "metadata": {},
   "outputs": [
    {
     "name": "stdout",
     "output_type": "stream",
     "text": [
      "PageRank of each page:\n",
      "[0.15789474 0.31578947 0.21052632 0.10526316 0.21052632]\n"
     ]
    }
   ],
   "source": [
    "P = np.array(((0, 0.5, 0, 0, 0), (1, 0, 0.5, 0.5, 0), (0, 0, 0, 0, 1), (0, 0, 0.5, 0, 0),\n",
    "              (0, 0.5, 0, 0.5, 0)))\n",
    "\n",
    "principal_eigenvector = pageRankeigen(P)\n",
    "\n",
    "print(\"PageRank of each page:\")\n",
    "print(principal_eigenvector)"
   ]
  },
  {
   "cell_type": "code",
   "execution_count": null,
   "metadata": {},
   "outputs": [],
   "source": []
  }
 ],
 "metadata": {
  "kernelspec": {
   "display_name": "Python 3",
   "language": "python",
   "name": "python3"
  },
  "language_info": {
   "codemirror_mode": {
    "name": "ipython",
    "version": 3
   },
   "file_extension": ".py",
   "mimetype": "text/x-python",
   "name": "python",
   "nbconvert_exporter": "python",
   "pygments_lexer": "ipython3",
   "version": "3.11.6"
  }
 },
 "nbformat": 4,
 "nbformat_minor": 2
}
