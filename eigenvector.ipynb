{
 "cells": [
  {
   "cell_type": "code",
   "execution_count": 4,
   "metadata": {},
   "outputs": [
    {
     "name": "stdout",
     "output_type": "stream",
     "text": [
      "PageRank of each page:\n",
      "[3.25809776e-16 4.83864260e-16 9.63951358e-16 4.44444444e-01\n",
      " 2.22222222e-01 3.33333333e-01]\n"
     ]
    }
   ],
   "source": [
    "#this is trying the eignevector approach to a column-stochastic matrix that is NOT irreducible\n",
    "#hint - it seems like we get a solution, but if we ran the iterative approach, we'd see that we don't get a steady-state vector\n",
    "import numpy as np\n",
    "\n",
    "P = np.array([\n",
    "    [0, 0, 1/3, 0, 0, 0],\n",
    "    [1/2, 0, 1/3, 0, 0, 0],\n",
    "    [1/2, 1, 0, 0, 0, 0],\n",
    "    [0, 0, 0, 0, 1/2, 1],\n",
    "    [0, 0, 1/3, 1/2, 0, 0],\n",
    "    [0, 0, 0, 1/2, 1/2, 0]\n",
    "])\n",
    "\n",
    "# Compute the eigenvalues and eigenvectors\n",
    "eigenvalues, eigenvectors = np.linalg.eig(P)\n",
    "\n",
    "# Find the index of the eigenvalue that is closest to 1\n",
    "index = np.argmax(eigenvalues)\n",
    "\n",
    "# Extract the corresponding principal eigenvector\n",
    "# The principal eigenvector is the eigenvector associated with the largest eigenvalue in magnitude.\n",
    "principal_eigenvector =np.real(eigenvectors[:, index])\n",
    "\n",
    "# Normalize the eigenvector to have non-negative entries that sum to 1\n",
    "principal_eigenvector = principal_eigenvector / np.sum(np.abs(principal_eigenvector))\n",
    "\n",
    "print(\"PageRank of each page:\")\n",
    "print(principal_eigenvector)\n"
   ]
  },
  {
   "cell_type": "code",
   "execution_count": 5,
   "metadata": {},
   "outputs": [
    {
     "name": "stdout",
     "output_type": "stream",
     "text": [
      "Eigenvalues of P:\n",
      "[ 1.        +0.j         -0.09857711+0.13228081j -0.09857711-0.13228081j\n",
      "  0.35484613+0.j          0.24470287+0.j          0.04760522+0.j        ]\n",
      "eigenvector: [[ 0.34396411+0.j         -0.08013819-0.45333108j -0.08013819+0.45333108j\n",
      "  -0.22696021+0.j         -0.47867013+0.j         -0.29030984+0.j        ]\n",
      " [ 0.33521252+0.j          0.58537287+0.j          0.58537287-0.j\n",
      "  -0.08791266+0.j         -0.01112592+0.j         -0.74173816+0.j        ]\n",
      " [ 0.31696677+0.j         -0.36175881+0.02816965j -0.36175881-0.02816965j\n",
      "   0.01348342+0.j          0.39895972+0.j          0.29409107+0.j        ]\n",
      " [ 0.43996643+0.j          0.17565728-0.1815193j   0.17565728+0.1815193j\n",
      "  -0.22984816+0.j         -0.07334741+0.j          0.47506555+0.j        ]\n",
      " [ 0.49199863+0.j         -0.10095641+0.36704145j -0.10095641-0.36704145j\n",
      "  -0.34538109+0.j         -0.46229965+0.j          0.03446132+0.j        ]\n",
      " [ 0.48292879+0.j         -0.21817675+0.23963928j -0.21817675-0.23963928j\n",
      "   0.8766187 +0.j          0.6264834 +0.j          0.22843005+0.j        ]]\n",
      "Is the matrix fully connected (irreducible)? True\n"
     ]
    }
   ],
   "source": [
    "#this is a matrix that is both irreducible and aperiodic\n",
    "P = np.array([\n",
    "    [0.1, 0.15, 0,    0.2,  0.25, 0.1],\n",
    "    [0.1, 0.15, 0.25, 0,    0.25, 0.1],\n",
    "    [0.1, 0.2,  0.25, 0.2,  0,    0.1],\n",
    "    [0.1, 0.2,  0.25, 0.2,  0.25, 0.1],\n",
    "    [0.3, 0.15, 0.25, 0.2,  0.25, 0.1],\n",
    "    [0.3, 0.15, 0,    0.2,  0,    0.5]\n",
    "])\n",
    "\n",
    "# Compute the eigenvalues of P\n",
    "eigenvalues, ev = np.linalg.eig(P)\n",
    "print(\"Eigenvalues of P:\")\n",
    "print(eigenvalues)\n",
    "\n",
    "print(\"eigenvector:\", ev)\n",
    "\n",
    "# Check if the matrix is fully connected by checking the power of P\n",
    "n = P.shape[0]\n",
    "P_power = np.linalg.matrix_power(P, n-1)  # Check the power of n-1\n",
    "\n",
    "# Check if all entries in P_power are greater than 0\n",
    "is_fully_connected = np.all(P_power > 0)\n",
    "print(\"Is the matrix fully connected (irreducible)?\", is_fully_connected)"
   ]
  },
  {
   "cell_type": "code",
   "execution_count": 7,
   "metadata": {},
   "outputs": [
    {
     "name": "stdout",
     "output_type": "stream",
     "text": [
      "PageRank of each page:\n",
      "[0.1426623  0.13903249 0.1314649  0.18248015 0.20406098 0.20029918]\n"
     ]
    }
   ],
   "source": [
    "#trying the eigenvector approach on an irreducible and aperiodic matrix\n",
    "#hint - eigenvalue approach works,\n",
    "#we can confirm that by running an iterative approach and see that we CAN reach a steady-state vector, and that it would be the same as here\n",
    "import numpy as np\n",
    "\n",
    "P = np.array([\n",
    "    [0.1, 0.15, 0,    0.2,  0.25, 0.1],\n",
    "    [0.1, 0.15, 0.25, 0,    0.25, 0.1],\n",
    "    [0.1, 0.2,  0.25, 0.2,  0,    0.1],\n",
    "    [0.1, 0.2,  0.25, 0.2,  0.25, 0.1],\n",
    "    [0.3, 0.15, 0.25, 0.2,  0.25, 0.1],\n",
    "    [0.3, 0.15, 0,    0.2,  0,    0.5]\n",
    "])\n",
    "\n",
    "# Compute the eigenvalues and eigenvectors\n",
    "eigenvalues, eigenvectors = np.linalg.eig(P)\n",
    "\n",
    "# Find the index of the eigenvalue that is closest to 1\n",
    "index = np.argmax(eigenvalues)\n",
    "\n",
    "# Extract the corresponding principal eigenvector\n",
    "# The principal eigenvector is the eigenvector associated with the largest eigenvalue in magnitude.\n",
    "principal_eigenvector =np.real(eigenvectors[:, index])\n",
    "\n",
    "# Normalize the eigenvector to have non-negative entries that sum to 1\n",
    "principal_eigenvector = principal_eigenvector / np.sum(np.abs(principal_eigenvector))\n",
    "\n",
    "print(\"PageRank of each page:\")\n",
    "print(principal_eigenvector)\n"
   ]
  },
  {
   "cell_type": "code",
   "execution_count": 9,
   "metadata": {},
   "outputs": [
    {
     "name": "stdout",
     "output_type": "stream",
     "text": [
      "Column sums: [1. 1. 1. 1. 1. 1.]\n"
     ]
    }
   ],
   "source": [
    "#this code just checks if the matrix is column-stochastic\n",
    "#if all sums are 1, it is\n",
    "import numpy as np\n",
    "\n",
    "# Define the hyperlink matrix P\n",
    "P = np.array([\n",
    "    [0, 0, 1/3, 0, 0, 0],\n",
    "    [1/2, 0, 1/3, 0, 0, 0],\n",
    "    [1/2, 1, 0, 0, 0, 0],\n",
    "    [0, 0, 0, 0, 1/2, 1],\n",
    "    [0, 0, 1/3, 1/2, 0, 0],\n",
    "    [0, 0, 0, 1/2, 1/2, 0]\n",
    "])\n",
    "\n",
    "# Print the sum of each column to ensure each sums to 1\n",
    "column_sums = np.sum(P, axis=0)\n",
    "print(\"Column sums:\", column_sums)\n"
   ]
  }
 ],
 "metadata": {
  "kernelspec": {
   "display_name": "Python 3",
   "language": "python",
   "name": "python3"
  },
  "language_info": {
   "codemirror_mode": {
    "name": "ipython",
    "version": 3
   },
   "file_extension": ".py",
   "mimetype": "text/x-python",
   "name": "python",
   "nbconvert_exporter": "python",
   "pygments_lexer": "ipython3",
   "version": "3.10.3"
  }
 },
 "nbformat": 4,
 "nbformat_minor": 2
}
