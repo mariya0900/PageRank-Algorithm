{
 "cells": [
  {
   "cell_type": "code",
   "execution_count": 6,
   "metadata": {},
   "outputs": [
    {
     "name": "stdout",
     "output_type": "stream",
     "text": [
      "PageRank of each page:\n",
      "[3.25809776e-16 4.83864260e-16 9.63951358e-16 4.44444444e-01\n",
      " 2.22222222e-01 3.33333333e-01]\n"
     ]
    }
   ],
   "source": [
    "import numpy as np\n",
    "\n",
    "# Define the hyperlink matrix P\n",
    "P = np.array([\n",
    "    [0, 0, 1/3, 0, 0, 0],\n",
    "    [1/2, 0, 1/3, 0, 0, 0],\n",
    "    [1/2, 1, 0, 0, 0, 0],\n",
    "    [0, 0, 0, 0, 1/2, 1],\n",
    "    [0, 0, 1/3, 1/2, 0, 0],\n",
    "    [0, 0, 0, 1/2, 1/2, 0]\n",
    "])\n",
    "\n",
    "# Compute the eigenvalues and eigenvectors\n",
    "eigenvalues, eigenvectors = np.linalg.eig(P)\n",
    "\n",
    "# Find the index of the eigenvalue that is closest to 1\n",
    "index = np.argmin(np.abs(eigenvalues - 1))\n",
    "\n",
    "# Extract the corresponding principal eigenvector\n",
    "principal_eigenvector = np.real(eigenvectors[:, index])\n",
    "\n",
    "# Normalize the eigenvector to have non-negative entries that sum to 1\n",
    "principal_eigenvector = principal_eigenvector / np.sum(np.abs(principal_eigenvector))\n",
    "\n",
    "print(\"PageRank of each page:\")\n",
    "print(principal_eigenvector)\n"
   ]
  },
  {
   "cell_type": "code",
   "execution_count": 7,
   "metadata": {},
   "outputs": [
    {
     "name": "stdout",
     "output_type": "stream",
     "text": [
      "PageRank of each page:\n",
      "[ 1.32860755e-16  2.13433537e-17 -6.64303773e-17  4.44444444e-01\n",
      "  2.22222222e-01  3.33333333e-01]\n"
     ]
    }
   ],
   "source": [
    "import numpy as np\n",
    "from scipy.sparse import csc_matrix\n",
    "from scipy.sparse.linalg import eigs\n",
    "\n",
    "# Define the hyperlink matrix P\n",
    "P = np.array([\n",
    "    [0, 0, 1/3, 0, 0, 0],\n",
    "    [1/2, 0, 1/3, 0, 0, 0],\n",
    "    [1/2, 1, 0, 0, 0, 0],\n",
    "    [0, 0, 0, 0, 1/2, 1],\n",
    "    [0, 0, 1/3, 1/2, 0, 0],\n",
    "    [0, 0, 0, 1/2, 1/2, 0]\n",
    "])\n",
    "\n",
    "# Convert P to a Compressed Sparse Column (CSC) matrix\n",
    "P_csc = csc_matrix(P)\n",
    "\n",
    "# Use SciPy's eigs to find the largest eigenvalue and corresponding eigenvector\n",
    "# k=1 finds the largest; which='LR' specifies the largest real part\n",
    "values, vectors = eigs(P_csc, k=1, which='LR')\n",
    "\n",
    "# Extract the principal eigenvector and normalize it\n",
    "principal_eigenvector = np.real(vectors[:, 0])\n",
    "principal_eigenvector = principal_eigenvector / np.sum(principal_eigenvector)\n",
    "\n",
    "print(\"PageRank of each page:\")\n",
    "print(principal_eigenvector)\n"
   ]
  },
  {
   "cell_type": "code",
   "execution_count": 8,
   "metadata": {},
   "outputs": [
    {
     "name": "stdout",
     "output_type": "stream",
     "text": [
      "Column sums: [1. 1. 1. 1. 1. 1.]\n",
      "Adjusted P:\n",
      "[[0.         0.         0.33333333 0.         0.         0.        ]\n",
      " [0.5        0.         0.33333333 0.         0.         0.        ]\n",
      " [0.5        1.         0.         0.         0.         0.        ]\n",
      " [0.         0.         0.         0.         0.5        1.        ]\n",
      " [0.         0.         0.33333333 0.5        0.         0.        ]\n",
      " [0.         0.         0.         0.5        0.5        0.        ]]\n"
     ]
    }
   ],
   "source": [
    "import numpy as np\n",
    "\n",
    "# Define the hyperlink matrix P\n",
    "P = np.array([\n",
    "    [0, 0, 1/3, 0, 0, 0],\n",
    "    [1/2, 0, 1/3, 0, 0, 0],\n",
    "    [1/2, 1, 0, 0, 0, 0],\n",
    "    [0, 0, 0, 0, 1/2, 1],\n",
    "    [0, 0, 1/3, 1/2, 0, 0],\n",
    "    [0, 0, 0, 1/2, 1/2, 0]\n",
    "])\n",
    "\n",
    "# Print the sum of each column to ensure each sums to 1\n",
    "column_sums = np.sum(P, axis=0)\n",
    "print(\"Column sums:\", column_sums)\n",
    "\n",
    "# Adjust P if any columns do not sum to 1\n",
    "P_adjusted = P / column_sums\n",
    "\n",
    "print(\"Adjusted P:\")\n",
    "print(P_adjusted)\n"
   ]
  },
  {
   "cell_type": "code",
   "execution_count": 9,
   "metadata": {},
   "outputs": [
    {
     "name": "stdout",
     "output_type": "stream",
     "text": [
      "Eigenvalues of P:\n",
      "[ 1.        +0.00000000e+00j  0.83624392+0.00000000e+00j\n",
      " -0.41812196+1.56454205e-01j -0.41812196-1.56454205e-01j\n",
      " -0.5       +1.08680046e-08j -0.5       -1.08680046e-08j]\n",
      "Is the matrix fully connected (irreducible)? False\n"
     ]
    }
   ],
   "source": [
    "import numpy as np\n",
    "\n",
    "# Define the hyperlink matrix P\n",
    "P = np.array([\n",
    "    [0, 0, 1/3, 0, 0, 0],\n",
    "    [1/2, 0, 1/3, 0, 0, 0],\n",
    "    [1/2, 1, 0, 0, 0, 0],\n",
    "    [0, 0, 0, 0, 1/2, 1],\n",
    "    [0, 0, 1/3, 1/2, 0, 0],\n",
    "    [0, 0, 0, 1/2, 1/2, 0]\n",
    "])\n",
    "\n",
    "# Compute the eigenvalues of P\n",
    "eigenvalues = np.linalg.eigvals(P)\n",
    "print(\"Eigenvalues of P:\")\n",
    "print(eigenvalues)\n",
    "\n",
    "# Check if the matrix is fully connected by checking the power of P\n",
    "n = P.shape[0]\n",
    "P_power = np.linalg.matrix_power(P, n-1)  # Check the power of n-1\n",
    "\n",
    "# Check if all entries in P_power are greater than 0\n",
    "is_fully_connected = np.all(P_power > 0)\n",
    "print(\"Is the matrix fully connected (irreducible)?\", is_fully_connected)\n"
   ]
  },
  {
   "cell_type": "code",
   "execution_count": 12,
   "metadata": {},
   "outputs": [
    {
     "name": "stdout",
     "output_type": "stream",
     "text": [
      "Eigenvalues of P:\n",
      "[-0.66962311+0.j         -0.34343466+0.63693669j -0.34343466-0.63693669j\n",
      "  1.        +0.j          0.35649244+0.j        ]\n",
      "Is the matrix fully connected (irreducible)? False\n"
     ]
    }
   ],
   "source": [
    "P = np.array(((0, 0.5, 0, 0, 0), (1, 0, 0.5, 0.5, 0), (0, 0, 0, 0, 1), (0, 0, 0.5, 0, 0),\n",
    "              (0, 0.5, 0, 0.5, 0)))\n",
    "\n",
    "# Compute the eigenvalues of P\n",
    "eigenvalues, ev = np.linalg.eig(P)\n",
    "print(\"Eigenvalues of P:\")\n",
    "print(eigenvalues)\n",
    "\n",
    "print(\"eigenvector:\", ev)\n",
    "\n",
    "# Check if the matrix is fully connected by checking the power of P\n",
    "n = P.shape[0]\n",
    "P_power = np.linalg.matrix_power(P, n-1)  # Check the power of n-1\n",
    "\n",
    "# Check if all entries in P_power are greater than 0\n",
    "is_fully_connected = np.all(P_power > 0)\n",
    "print(\"Is the matrix fully connected (irreducible)?\", is_fully_connected)"
   ]
  }
 ],
 "metadata": {
  "kernelspec": {
   "display_name": "Python 3",
   "language": "python",
   "name": "python3"
  },
  "language_info": {
   "codemirror_mode": {
    "name": "ipython",
    "version": 3
   },
   "file_extension": ".py",
   "mimetype": "text/x-python",
   "name": "python",
   "nbconvert_exporter": "python",
   "pygments_lexer": "ipython3",
   "version": "3.10.3"
  }
 },
 "nbformat": 4,
 "nbformat_minor": 2
}
