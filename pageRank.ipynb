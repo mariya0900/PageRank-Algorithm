{
 "cells": [
  {
   "cell_type": "code",
   "execution_count": 1,
   "metadata": {},
   "outputs": [],
   "source": [
    "import numpy as np"
   ]
  },
  {
   "cell_type": "code",
   "execution_count": 2,
   "metadata": {},
   "outputs": [],
   "source": [
    "def init(numNodes:int):\n",
    "    x = np.ones((numNodes))/numNodes\n",
    "    return x"
   ]
  },
  {
   "cell_type": "code",
   "execution_count": 6,
   "metadata": {},
   "outputs": [],
   "source": [
    "def bruteForce(x: np.array, P: np.array, threshold: int):\n",
    "    iter = 0\n",
    "    min_iter = 0\n",
    "    num_pages = x.shape[0] \n",
    "    rank = []\n",
    "    for i in range(num_pages):\n",
    "        rank.append([x[i]])\n",
    "    # rank = np.append(rank, x)\n",
    "    # loop = True\n",
    "    # while loop:\n",
    "    #     x_new = np.matmul(P, x)\n",
    "    #     iter += 1\n",
    "    #     iteration.append(iter)\n",
    "    #     if np.linalg.norm(x_new - x, ord=1) < threshold:\n",
    "    #         loop = False\n",
    "    #     x = x_new\n",
    "    #     rank = np.append(rank, x)\n",
    "    for _ in range(100):\n",
    "        x_new = np.matmul(P, x)\n",
    "        for i in range(num_pages):\n",
    "            rank[i].append(x_new[i])\n",
    "\n",
    "        diff = x_new - x\n",
    "        # print(np.linalg.norm(diff))\n",
    "        if np.linalg.norm(diff) < threshold:\n",
    "            iter = _\n",
    "            break\n",
    "\n",
    "        x = x_new\n",
    "\n",
    "    return x, iter, rank"
   ]
  },
  {
   "cell_type": "code",
   "execution_count": 7,
   "metadata": {},
   "outputs": [],
   "source": [
    "def eigenSolver(P:np.array)->np.array:\n",
    "    eigenvalue, eigenvector = np.linalg.eig(P.T)\n",
    "    dominant_value = np.argmax(eigenvalue.real)\n",
    "    dominant_vector = (eigenvector[:,dominant_value]).real\n",
    "    dominant_vector = dominant_vector/np.sum(dominant_vector)\n",
    "\n",
    "    return dominant_vector\n"
   ]
  },
  {
   "cell_type": "code",
   "execution_count": 9,
   "metadata": {},
   "outputs": [
    {
     "name": "stdout",
     "output_type": "stream",
     "text": [
      "x = [0.16666667 0.16666667 0.16666667 0.16666667 0.16666667 0.16666667]\n",
      "x = [0.08333333 0.11111111 0.16666667 0.23611111 0.20833333 0.19444444]\n",
      "v= [0.16666667 0.16666667 0.16666667 0.16666667 0.16666667 0.16666667]\n"
     ]
    }
   ],
   "source": [
    "x = init(6)\n",
    "P = np.array(((0, 0, 1/3, 0, 0, 0), (1/2, 0, 1/3, 0, 0, 0), (1/2, 1, 0, 0, 0, 0), (0, 0, 0, 0, 1/2, 1),\n",
    "              (0, 0, 1/3 , 1/2, 0 , 0), (0, 0, 0, 1/2, 1/2, 0)))\n",
    "print(f\"x = {x}\")\n",
    "# print(f\"P = \\n{P}\")\n",
    "x, min_iter, rank = bruteForce(x, P, 0.1)\n",
    "print(f\"x = {x}\")\n",
    "# print(len(iteration))\n",
    "temp = np.linalg.eig(P.T)\n",
    "# print(temp[0].real)\n",
    "# print(min_iter)\n",
    "# print(len(rank[0]))\n",
    "v = eigenSolver(P)\n",
    "print(f\"v = {v}\")"
   ]
  },
  {
   "cell_type": "code",
   "execution_count": null,
   "metadata": {},
   "outputs": [],
   "source": []
  }
 ],
 "metadata": {
  "kernelspec": {
   "display_name": "Python 3",
   "language": "python",
   "name": "python3"
  },
  "language_info": {
   "codemirror_mode": {
    "name": "ipython",
    "version": 3
   },
   "file_extension": ".py",
   "mimetype": "text/x-python",
   "name": "python",
   "nbconvert_exporter": "python",
   "pygments_lexer": "ipython3",
   "version": "3.11.6"
  }
 },
 "nbformat": 4,
 "nbformat_minor": 2
}
